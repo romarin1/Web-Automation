{
 "cells": [
  {
   "cell_type": "code",
   "execution_count": null,
   "id": "63f6e9fb",
   "metadata": {},
   "outputs": [],
   "source": [
    "# Passo 1 - Entrar na Internet -> Chromedriver"
   ]
  },
  {
   "cell_type": "code",
   "execution_count": null,
   "id": "9b38347f",
   "metadata": {},
   "outputs": [],
   "source": [
    "# Passo 2 - Pegar as cotação do Dolar"
   ]
  },
  {
   "cell_type": "code",
   "execution_count": null,
   "id": "c90ad4b9",
   "metadata": {},
   "outputs": [],
   "source": [
    "# Passo 3 - Pegar as cotação do Euro"
   ]
  },
  {
   "cell_type": "code",
   "execution_count": null,
   "id": "3dd20cc1",
   "metadata": {},
   "outputs": [],
   "source": [
    "# Passo 4 - Pegar as cotação do Ouro"
   ]
  },
  {
   "cell_type": "code",
   "execution_count": null,
   "id": "b46bf5d7",
   "metadata": {},
   "outputs": [],
   "source": [
    "# Passo 5 - Importar e atualizar a base de dados"
   ]
  },
  {
   "cell_type": "code",
   "execution_count": null,
   "id": "a0765a52",
   "metadata": {},
   "outputs": [],
   "source": [
    "# Passo 6 - Exportar a base de dados atualizada"
   ]
  },
  {
   "cell_type": "code",
   "execution_count": null,
   "id": "2aae1e43",
   "metadata": {},
   "outputs": [],
   "source": []
  }
 ],
 "metadata": {
  "kernelspec": {
   "display_name": "Python 3",
   "language": "python",
   "name": "python3"
  },
  "language_info": {
   "codemirror_mode": {
    "name": "ipython",
    "version": 3
   },
   "file_extension": ".py",
   "mimetype": "text/x-python",
   "name": "python",
   "nbconvert_exporter": "python",
   "pygments_lexer": "ipython3",
   "version": "3.8.8"
  }
 },
 "nbformat": 4,
 "nbformat_minor": 5
}
